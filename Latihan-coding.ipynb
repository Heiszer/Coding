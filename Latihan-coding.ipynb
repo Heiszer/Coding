{
  "nbformat": 4,
  "nbformat_minor": 0,
  "metadata": {
    "colab": {
      "name": "Untitled0.ipynb",
      "provenance": [],
      "collapsed_sections": [],
      "authorship_tag": "ABX9TyNbRA32ZC9d8wdBuauFnmYu",
      "include_colab_link": true
    },
    "kernelspec": {
      "name": "python3",
      "display_name": "Python 3"
    },
    "language_info": {
      "name": "python"
    }
  },
  "cells": [
    {
      "cell_type": "markdown",
      "metadata": {
        "id": "view-in-github",
        "colab_type": "text"
      },
      "source": [
        "<a href=\"https://colab.research.google.com/github/Heiszer/Coding/blob/main/Latihan-coding.ipynb\" target=\"_parent\"><img src=\"https://colab.research.google.com/assets/colab-badge.svg\" alt=\"Open In Colab\"/></a>"
      ]
    },
    {
      "cell_type": "code",
      "execution_count": 16,
      "metadata": {
        "colab": {
          "base_uri": "https://localhost:8080/"
        },
        "id": "Cpnvgh7dRY2a",
        "outputId": "344c7f7c-6c99-4561-bd23-f67d13840566"
      },
      "outputs": [
        {
          "output_type": "stream",
          "name": "stdout",
          "text": [
            "13\n",
            "16\n",
            "var 2 lebih kecil dari var1\n"
          ]
        }
      ],
      "source": [
        "7 + 6\n",
        "\n",
        "\n",
        "\n",
        "\n",
        "# Helo, world\n",
        "nilai1 = 7+8\n",
        "nilai2 = nilai1 * 1\n",
        "nilai2 = nilai2 / 3 #variabel\n",
        "nilai2\n",
        "\n",
        "type(nilai2)\n",
        "# tipe data int\n",
        "\n",
        "var_string = \"Hello, World\"\n",
        "\n",
        "type(var_string)\n",
        "\n",
        "var_boolean = True # True / False\n",
        "type(var_boolean)\n",
        "\n",
        "print( 5 + 8);\n",
        "print(7 + 9);\n",
        "\n",
        "# if var_boolean == True:\n",
        "#   print('bagus')\n",
        "# else:\n",
        "#   print(\"Tidak bagus\")\n",
        "\n",
        "var1 = 6\n",
        "var2 = 5\n",
        "if var1 < var2:\n",
        "  print('var 1 lebih besar dari var2')\n",
        "else:\n",
        "  print('var 2 lebih kecil dari var1')\n",
        "\n",
        "\n",
        "\n",
        "\n",
        "\n"
      ]
    },
    {
      "cell_type": "code",
      "source": [
        "name = input(\"Masukan nama anda : \")\n",
        "umur = input(\"Masukan Umur Anda : \")\n",
        "\n",
        "umur = int(umur)\n",
        "\n",
        "\n",
        "\n",
        "\n"
      ],
      "metadata": {
        "colab": {
          "base_uri": "https://localhost:8080/"
        },
        "id": "6A-af1vnbBzr",
        "outputId": "00f19022-fb84-4b59-a506-8291eff2b0a4"
      },
      "execution_count": 17,
      "outputs": [
        {
          "name": "stdout",
          "output_type": "stream",
          "text": [
            "Masukan nama anda : Heiszer\n",
            "Masukan Umur Anda : 12\n"
          ]
        }
      ]
    }
  ]
}